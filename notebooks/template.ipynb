{
 "cells": [
  {
   "cell_type": "markdown",
   "metadata": {
    "id": "NgOsU_K38mGa"
   },
   "source": [
    "# 🏠 House Price Prediction Lab - Solution\n",
    "\n",
    "**Project Description**:\n",
    "\n",
    "The goal of this project is to predict house price based on real estate features extracted for houses in Bengaluru. The major sequence of steps in the coding process are listed below:\n",
    "\n",
    "1.   Load and clean up the data.\n",
    "2.   Analyze the features (*ordinal, categorical*, and *continuous*) for missingness, correct data type association, and distribution.\n",
    "3.   Spit the data into train and test sets..\n",
    "4.   Build an ML pipeline (*encoder -> imputer -> regression module*) for the train set by specifying seperate ecoding and imputing steps (if needed) for ordinal, categorical, and continuous features.\n",
    "5.   Train the ML pipeline on the train set and apply it for prediction on the test set.\n",
    "6.   Report performance metrics"
   ]
  },
  {
   "cell_type": "markdown",
   "metadata": {
    "id": "bs3Dy2iWDYIn"
   },
   "source": [
    "---\n",
    "\n",
    "Import libraries\n",
    "\n",
    "---"
   ]
  },
  {
   "cell_type": "code",
   "execution_count": 4,
   "metadata": {
    "id": "-1WVpij28mGe"
   },
   "outputs": [],
   "source": [
    "import pandas as pd\n",
    "import numpy as np\n",
    "import os\n",
    "import sys\n",
    "import math\n",
    "import matplotlib.pyplot as plt\n",
    "import matplotlib.cm as cm\n",
    "plt.style.use('dark_background')\n",
    "%matplotlib inline\n",
    "\n",
    "## Pipeline module\n",
    "from sklearn.pipeline import Pipeline\n",
    "\n",
    "## Scaling, encoding, and imputation libraries\n",
    "from sklearn.preprocessing import StandardScaler, RobustScaler, MinMaxScaler, OneHotEncoder, OrdinalEncoder, LabelEncoder\n",
    "from sklearn.experimental import enable_iterative_imputer\n",
    "from sklearn.impute import SimpleImputer, IterativeImputer\n",
    "\n",
    "# Column trandformation library\n",
    "from sklearn.compose import ColumnTransformer\n",
    "\n",
    "## Train-test, cross-validation, and grid search modules\n",
    "from sklearn.model_selection import train_test_split\n",
    "\n",
    "## Cross-validation and grid search modules\n",
    "from sklearn.model_selection import KFold, StratifiedKFold, GridSearchCV, cross_val_score\n",
    "\n",
    "## Regression modules\n",
    "from sklearn import linear_model\n",
    "\n",
    "## Performance metrics modules\n",
    "from sklearn.metrics import mean_squared_error, r2_score\n",
    "\n",
    "## Model serialization module\n",
    "import joblib"
   ]
  },
  {
   "cell_type": "markdown",
   "metadata": {
    "id": "O1ogwCX1-jvz"
   },
   "source": [
    "---\n",
    "\n",
    "Mount Google Drive if running in Colab\n",
    "\n",
    "---"
   ]
  },
  {
   "cell_type": "code",
   "execution_count": 3,
   "metadata": {
    "colab": {
     "base_uri": "https://localhost:8080/"
    },
    "id": "I9zmBbC8-kpD",
    "outputId": "70c6f9ab-649b-45ae-f25f-62536de7d64f"
   },
   "outputs": [],
   "source": [
    "## Mount Google drive folder if running in Colab\n",
    "if('google.colab' in sys.modules):\n",
    "    from google.colab import drive\n",
    "    drive.mount('/content/drive', force_remount = True)\n",
    "    DIR = '/content/drive/MyDrive/Colab Notebooks/MAHE/MSIS Coursework/OddSem2025MAHE/House Price Project/'\n",
    "    DATA_DIR = DIR + '/Data/'\n",
    "    os.chdir(DIR)\n",
    "else:\n",
    "    DATA_DIR = '../data/'"
   ]
  },
  {
   "cell_type": "markdown",
   "metadata": {
    "id": "IvWR_nLE_SQY"
   },
   "source": [
    "---\n",
    "\n",
    "Load bengaluru house price data\n",
    "\n",
    "---"
   ]
  },
  {
   "cell_type": "code",
   "execution_count": 6,
   "metadata": {
    "colab": {
     "base_uri": "https://localhost:8080/",
     "height": 293
    },
    "id": "IFH-H0KS8mGh",
    "outputId": "47d5ac9d-ecf5-4262-cf20-300c4b310387"
   },
   "outputs": [
    {
     "name": "stdout",
     "output_type": "stream",
     "text": [
      "Bengaluru house price dataset\n",
      "-----------\n",
      "Initial number of samples = 225\n",
      "Initial number of features = 8\n",
      "\n"
     ]
    },
    {
     "data": {
      "text/html": [
       "<div>\n",
       "<style scoped>\n",
       "    .dataframe tbody tr th:only-of-type {\n",
       "        vertical-align: middle;\n",
       "    }\n",
       "\n",
       "    .dataframe tbody tr th {\n",
       "        vertical-align: top;\n",
       "    }\n",
       "\n",
       "    .dataframe thead th {\n",
       "        text-align: right;\n",
       "    }\n",
       "</style>\n",
       "<table border=\"1\" class=\"dataframe\">\n",
       "  <thead>\n",
       "    <tr style=\"text-align: right;\">\n",
       "      <th></th>\n",
       "      <th>locality</th>\n",
       "      <th>area</th>\n",
       "      <th>rent</th>\n",
       "      <th>price_per_sqft</th>\n",
       "      <th>facing</th>\n",
       "      <th>BHK</th>\n",
       "      <th>bathrooms</th>\n",
       "      <th>parking</th>\n",
       "    </tr>\n",
       "  </thead>\n",
       "  <tbody>\n",
       "    <tr>\n",
       "      <th>0</th>\n",
       "      <td>BTM Layout</td>\n",
       "      <td>565.0</td>\n",
       "      <td>20060.0</td>\n",
       "      <td>6195.0</td>\n",
       "      <td>North-West</td>\n",
       "      <td>1</td>\n",
       "      <td>1</td>\n",
       "      <td>Bike</td>\n",
       "    </tr>\n",
       "    <tr>\n",
       "      <th>1</th>\n",
       "      <td>BTM Layout</td>\n",
       "      <td>1837.0</td>\n",
       "      <td>97434.0</td>\n",
       "      <td>9254.0</td>\n",
       "      <td>East</td>\n",
       "      <td>3</td>\n",
       "      <td>3</td>\n",
       "      <td>Bike and Car</td>\n",
       "    </tr>\n",
       "    <tr>\n",
       "      <th>2</th>\n",
       "      <td>BTM Layout</td>\n",
       "      <td>1280.0</td>\n",
       "      <td>54448.0</td>\n",
       "      <td>7422.0</td>\n",
       "      <td>East</td>\n",
       "      <td>2</td>\n",
       "      <td>2</td>\n",
       "      <td>Car</td>\n",
       "    </tr>\n",
       "    <tr>\n",
       "      <th>3</th>\n",
       "      <td>BTM Layout</td>\n",
       "      <td>2220.0</td>\n",
       "      <td>117000.0</td>\n",
       "      <td>9234.0</td>\n",
       "      <td>North</td>\n",
       "      <td>3</td>\n",
       "      <td>3</td>\n",
       "      <td>Bike and Car</td>\n",
       "    </tr>\n",
       "    <tr>\n",
       "      <th>4</th>\n",
       "      <td>BTM Layout</td>\n",
       "      <td>1113.0</td>\n",
       "      <td>34388.0</td>\n",
       "      <td>5391.0</td>\n",
       "      <td>East</td>\n",
       "      <td>2</td>\n",
       "      <td>2</td>\n",
       "      <td>Bike and Car</td>\n",
       "    </tr>\n",
       "  </tbody>\n",
       "</table>\n",
       "</div>"
      ],
      "text/plain": [
       "     locality    area      rent  price_per_sqft      facing  BHK  bathrooms  \\\n",
       "0  BTM Layout   565.0   20060.0          6195.0  North-West    1          1   \n",
       "1  BTM Layout  1837.0   97434.0          9254.0        East    3          3   \n",
       "2  BTM Layout  1280.0   54448.0          7422.0        East    2          2   \n",
       "3  BTM Layout  2220.0  117000.0          9234.0       North    3          3   \n",
       "4  BTM Layout  1113.0   34388.0          5391.0        East    2          2   \n",
       "\n",
       "        parking  \n",
       "0          Bike  \n",
       "1  Bike and Car  \n",
       "2           Car  \n",
       "3  Bike and Car  \n",
       "4  Bike and Car  "
      ]
     },
     "execution_count": 6,
     "metadata": {},
     "output_type": "execute_result"
    }
   ],
   "source": [
    "## Load Bengaluru house price data\n",
    "file = DATA_DIR + 'houseprices.csv'\n",
    "df= pd.read_csv(file, header = 0)\n",
    "\n",
    "print('Bengaluru house price dataset')\n",
    "print('-----------')\n",
    "print('Initial number of samples = %d'%(df.shape[0]))\n",
    "print('Initial number of features = %d\\n'%(df.shape[1]))\n",
    "df.head(5)"
   ]
  },
  {
   "cell_type": "markdown",
   "metadata": {
    "id": "EVZpSH6u_ixB"
   },
   "source": [
    "---\n",
    "\n",
    "Plot percentage of missing values (NaNs) for each feature\n",
    "\n",
    "---"
   ]
  },
  {
   "cell_type": "code",
   "execution_count": null,
   "metadata": {
    "colab": {
     "base_uri": "https://localhost:8080/",
     "height": 508
    },
    "id": "nx-Qy-_s_jdg",
    "outputId": "cbbc3799-f40b-4822-b8e4-a7c5fe917781"
   },
   "outputs": [],
   "source": [
    "## Plot percentage of missing values (NaNs) for each feature\n",
    "cutoff = 10 # we will remove features missing in more than cutoff% of the samples\n",
    "fig = plt.figure(figsize=(4, 4))\n",
    "percent_missing = (df.isna().sum() / df.shape[0]) * 100\n",
    "percent_missing.plot(kind = 'bar', color = cm.rainbow(np.linspace(0, 1, 2))[(percent_missing <= cutoff).values.astype(int)])\n",
    "plt.plot(np.arange(df.shape[1]), np.repeat(cutoff, df.shape[1]), 'g--')\n",
    "fig.suptitle('Percentage Missing Values Across All Features', fontsize = 10)\n",
    "plt.xlabel('Feature', fontsize = 8)\n",
    "plt.ylabel('% Missing Values', fontsize = 8);"
   ]
  },
  {
   "cell_type": "markdown",
   "metadata": {
    "id": "dpTj-K4y_7Wt"
   },
   "source": [
    "---\n",
    "\n",
    "Create lists of ordinal, categorical, and continuous features\n",
    "\n",
    "---"
   ]
  },
  {
   "cell_type": "code",
   "execution_count": 9,
   "metadata": {
    "id": "ZLuje0b__9A8"
   },
   "outputs": [],
   "source": [
    "## Create lists of ordinal, categorical, and continuous features\n",
    "ordinal_features = ['BHK','bathrooms']\n",
    "categorical_features = ['locality','facing','parking']\n",
    "continuous_features = (df.drop(ordinal_features, axis = 1)).drop(categorical_features, axis = 1).columns.tolist()\n",
    "\n",
    "# Remove target variable from continuous features\n",
    "continuous_features.remove('price_per_sqft')"
   ]
  },
  {
   "cell_type": "markdown",
   "metadata": {
    "id": "21PHeVRACdkF"
   },
   "source": [
    "---\n",
    "\n",
    "Treat \"missingness\" as another level in the categorical variables\n",
    "\n",
    "---"
   ]
  },
  {
   "cell_type": "code",
   "execution_count": 10,
   "metadata": {
    "id": "hZhK2bn_CeJt"
   },
   "outputs": [],
   "source": [
    "# Replace NaN with 'Missing' in categorical columns\n",
    "df[categorical_features] = df[categorical_features].fillna('Missing')"
   ]
  },
  {
   "cell_type": "code",
   "execution_count": 11,
   "metadata": {},
   "outputs": [
    {
     "data": {
      "text/plain": [
       "locality           object\n",
       "area              float64\n",
       "rent              float64\n",
       "price_per_sqft    float64\n",
       "facing             object\n",
       "BHK                 int64\n",
       "bathrooms           int64\n",
       "parking            object\n",
       "dtype: object"
      ]
     },
     "execution_count": 11,
     "metadata": {},
     "output_type": "execute_result"
    }
   ],
   "source": [
    "df.dtypes"
   ]
  },
  {
   "cell_type": "markdown",
   "metadata": {
    "id": "zNy6dCpKABTv"
   },
   "source": [
    "---\n",
    "\n",
    "Assign 'category' datatype to ordinal and categorical columns\n",
    "\n",
    "---"
   ]
  },
  {
   "cell_type": "code",
   "execution_count": 12,
   "metadata": {
    "colab": {
     "base_uri": "https://localhost:8080/",
     "height": 508
    },
    "id": "w9ueT2SrAB_T",
    "outputId": "216f0d88-a98f-4149-a5d4-94576eaa9d3f"
   },
   "outputs": [
    {
     "name": "stdout",
     "output_type": "stream",
     "text": [
      "locality           object\n",
      "area              float64\n",
      "rent              float64\n",
      "price_per_sqft    float64\n",
      "facing             object\n",
      "BHK                 int64\n",
      "bathrooms           int64\n",
      "parking            object\n",
      "dtype: object\n",
      "----\n"
     ]
    },
    {
     "data": {
      "text/plain": [
       "locality          category\n",
       "area               float64\n",
       "rent               float64\n",
       "price_per_sqft     float64\n",
       "facing            category\n",
       "BHK               category\n",
       "bathrooms         category\n",
       "parking           category\n",
       "dtype: object"
      ]
     },
     "execution_count": 12,
     "metadata": {},
     "output_type": "execute_result"
    }
   ],
   "source": [
    "## Assign 'category' datatype to ordinal and categorical columns\n",
    "print(df.dtypes)\n",
    "df[ordinal_features + categorical_features] = df[ordinal_features + categorical_features].astype('category')\n",
    "print('----')\n",
    "df.dtypes"
   ]
  },
  {
   "cell_type": "markdown",
   "metadata": {
    "id": "UMMW4NDyAGNT"
   },
   "source": [
    "---\n",
    "\n",
    "Print unique values in each ordinal and categorical features\n",
    "\n",
    "---"
   ]
  },
  {
   "cell_type": "code",
   "execution_count": 14,
   "metadata": {
    "colab": {
     "base_uri": "https://localhost:8080/"
    },
    "id": "KHKtBfWYAH11",
    "outputId": "54f4c99c-2631-4463-97b4-7f20c6de3a83"
   },
   "outputs": [
    {
     "name": "stdout",
     "output_type": "stream",
     "text": [
      "BHK           4\n",
      "bathrooms    10\n",
      "locality      9\n",
      "facing        8\n",
      "parking       4\n",
      "dtype: int64\n",
      "\n",
      "Unique values in ordinal and categorical features\n",
      "---------------------------------------------------\n",
      "BHK [1, 3, 2, 4]\n",
      "bathrooms [1, 3, 2, 5, 13, 4, 26, 16, 6, 14]\n",
      "locality ['BTM Layout', 'Attibele', 'K R Puram ', 'Marathahalli', 'Indiranagar', 'Electronic City', 'Yalahanka', 'Malleshwaram', 'Jayanagar']\n",
      "facing ['North-West', 'East', 'North', 'West', 'North-East', 'South-East', 'South', 'Missing']\n",
      "parking ['Bike', 'Bike and Car', 'Car', 'Missing']\n"
     ]
    }
   ],
   "source": [
    "## Print unique values in each ordinal and categorical features\n",
    "print(df[ordinal_features + categorical_features].nunique())\n",
    "print('\\nUnique values in ordinal and categorical features')\n",
    "print('---------------------------------------------------')\n",
    "unique_values = {col:list(df[col].unique()) for col in ordinal_features + categorical_features}\n",
    "for key, value in unique_values.items():\n",
    "  print(key,value)"
   ]
  },
  {
   "cell_type": "markdown",
   "metadata": {
    "id": "jKbYeJ4PBAU1"
   },
   "source": [
    "---\n",
    "\n",
    "Build pipeline for ordinal, categorical, and continuous features\n",
    "\n",
    "---"
   ]
  },
  {
   "cell_type": "code",
   "execution_count": null,
   "metadata": {
    "id": "KLmUeN-WBA0W"
   },
   "outputs": [],
   "source": [
    "## Build pipeline for ordinal, categorical, and continuous features\n",
    "\n",
    "# Pipeline object for ordinal features\n",
    "ordinal_transformer = Pipeline(steps = [('ordinalenc', OrdinalEncoder())])\n",
    "\n",
    "# Pipeline object for categorical (features\n",
    "categorical_transformer = Pipeline(steps = [('onehotenc', OneHotEncoder(handle_unknown = 'ignore'))])\n",
    "# Use the following if missing values are to be imputed\n",
    "# categorical_transformer = Pipeline(steps = [('imputer', SimpleImputer(missing_values = np.nan, strategy = 'most_frequent')), ('onehotenc', OneHotEncoder(handle_unknown = 'ignore'))])\n",
    "\n",
    "# Pipeline object for continuous features\n",
    "continuous_transformer = Pipeline(steps = [('scaler', StandardScaler())])\n",
    "\n",
    "# Create a preprocessor object for all features\n",
    "preprocessor = ColumnTransformer(transformers = [('continuous', continuous_transformer, ?),\n",
    "                                                 ('categorical', ?, ?),\n",
    "                                                 ('ordinal', ?, ?)\n",
    "                                                ],\n",
    "                                 remainder = 'passthrough'\n",
    "                                 )\n",
    "\n",
    "# Define a classifier object\n",
    "regressor = ?\n",
    "\n",
    "# Define the entire classification model pipeline\n",
    "model_pipeline = ?"
   ]
  },
  {
   "cell_type": "markdown",
   "metadata": {
    "id": "z_gvqSIBBy71"
   },
   "source": [
    "---\n",
    "\n",
    "Train-test split of the dataset\n",
    "\n",
    "---"
   ]
  },
  {
   "cell_type": "code",
   "execution_count": null,
   "metadata": {
    "colab": {
     "base_uri": "https://localhost:8080/"
    },
    "id": "_pG_aoi6B1P4",
    "outputId": "67bb8f7f-5d87-491b-b90e-4edda58a7679"
   },
   "outputs": [
    {
     "name": "stdout",
     "output_type": "stream",
     "text": [
      "# training samples = 202, # test samples = 23\n"
     ]
    }
   ],
   "source": [
    "## Train and test split of the data\n",
    "X = ?\n",
    "y = df['price_per_sqft']\n",
    "X_train, X_test, y_train, y_test = train_test_split(?, ?,\n",
    "                                                    test_size = ?,\n",
    "                                                    random_state = 1)\n",
    "print('# training samples = %d, # test samples = %d'%(X_train.shape[0], X_test.shape[0]))"
   ]
  },
  {
   "cell_type": "markdown",
   "metadata": {
    "id": "ee7MqTfMB_pi"
   },
   "source": [
    "---\n",
    "\n",
    "Fit the pipeline on the train data and test on the test data\n",
    "\n",
    "---"
   ]
  },
  {
   "cell_type": "code",
   "execution_count": null,
   "metadata": {
    "colab": {
     "base_uri": "https://localhost:8080/"
    },
    "id": "iLv52hsaCFyd",
    "outputId": "7cf9000e-1abd-4365-ef37-2e35f74c0874"
   },
   "outputs": [],
   "source": [
    "## Fit the model pipeline on the train data and test on the test data\n",
    "model_pipeline.fit(?, ?)\n",
    "y_pred = model_pipeline.predict(?)\n",
    "print(f'Root Mean Squared Error = {?}')\n",
    "print(f'r2_score = {r2_score(y_test, y_pred)}')"
   ]
  },
  {
   "cell_type": "markdown",
   "metadata": {
    "id": "Cr2HbhzLDkhO"
   },
   "source": [
    "---\n",
    "\n",
    "Save model\n",
    "\n",
    "---"
   ]
  },
  {
   "cell_type": "code",
   "execution_count": null,
   "metadata": {
    "colab": {
     "base_uri": "https://localhost:8080/"
    },
    "id": "dEkY40W8Dl8r",
    "outputId": "dba920a6-d6c7-438c-b9d2-55b1e22831ed"
   },
   "outputs": [],
   "source": [
    "# Save model\n",
    "joblib.dump(?, '../model.pkl')"
   ]
  }
 ],
 "metadata": {
  "colab": {
   "provenance": []
  },
  "kernelspec": {
   "display_name": "housepriceproject",
   "language": "python",
   "name": "python3"
  },
  "language_info": {
   "codemirror_mode": {
    "name": "ipython",
    "version": 3
   },
   "file_extension": ".py",
   "mimetype": "text/x-python",
   "name": "python",
   "nbconvert_exporter": "python",
   "pygments_lexer": "ipython3",
   "version": "3.13.5"
  }
 },
 "nbformat": 4,
 "nbformat_minor": 0
}
